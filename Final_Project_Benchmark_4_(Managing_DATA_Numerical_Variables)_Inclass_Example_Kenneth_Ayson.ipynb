{
  "nbformat": 4,
  "nbformat_minor": 0,
  "metadata": {
    "colab": {
      "provenance": [],
      "include_colab_link": true
    },
    "kernelspec": {
      "name": "python3",
      "display_name": "Python 3"
    },
    "language_info": {
      "name": "python"
    }
  },
  "cells": [
    {
      "cell_type": "markdown",
      "metadata": {
        "id": "view-in-github",
        "colab_type": "text"
      },
      "source": [
        "<a href=\"https://colab.research.google.com/github/kennethayson/Skyline-Math-200/blob/main/Final_Project_Benchmark_4_(Managing_DATA_Numerical_Variables)_Inclass_Example_Kenneth_Ayson.ipynb\" target=\"_parent\"><img src=\"https://colab.research.google.com/assets/colab-badge.svg\" alt=\"Open In Colab\"/></a>"
      ]
    },
    {
      "cell_type": "code",
      "execution_count": 2,
      "metadata": {
        "id": "wSR-7xhb0IPh"
      },
      "outputs": [],
      "source": [
        "import pandas as pd"
      ]
    },
    {
      "cell_type": "code",
      "source": [
        "#New Dataset with Demographics\n",
        "url='https://drive.google.com/file/d/1J1lYAGJTivdEYYFoVK7m7tShm4kNhSgh/view?usp=sharing'\n",
        "path= 'https://drive.google.com/uc?export=download&id='+url.split('/')[-2]\n",
        "df = pd.read_csv(path)\n",
        "df.head(5)"
      ],
      "metadata": {
        "id": "kLzbxXMz0UrA",
        "colab": {
          "base_uri": "https://localhost:8080/",
          "height": 290
        },
        "outputId": "7e434147-83dc-4386-dbbc-9edec86f732a"
      },
      "execution_count": 3,
      "outputs": [
        {
          "output_type": "stream",
          "name": "stderr",
          "text": [
            "<ipython-input-3-f83a3cdbc7e9>:4: DtypeWarning: Columns (91,92,104,105,106,203,204,205,206,207,208,209,210,211,212,213,214,215,216,217,218,219,220,221,222,223,224,225,226,227,228,229,230,231,232,233,234,235,236,237,238,239,240,241,242,243,244,245,246,247,248,249,250,251,252,253,254,255,256,257,258,259,260,261,262,263,264,265,266,267,268,269,270,271,272,273,274,275,276,277,278,279,280,281,282,284,285,286,287,288,289,290,291,292,293,294,295,296,297,298,299,300,301,302,303,304,305,306,307,308,309,310,311,312,313,385,386,387,388,389,390,391,392,393,395,396,397,398,399,400,401,402,403,404,405,406,407,408,440,441,442,481,482,483,484,485,486,496,497,498,499,560,567,657,729,730,850,851,852,853,854,855,856,857,858,859,860,861,862,863,864,865,866,867,868,869,870,871,872,873,874,875,876,877,878,879,880,881,882,883,884,885,886,887,888,889,890,891,892,893,894,895,896,897,898,899,900,901,902,903,904,905,906,907,908,909,910,911,912,913,914,915,916,917,918,919,920,921,922,923,924,944,945,946,947,948,949,950,951,952,953,954,955,956,957,958,959,960,961) have mixed types. Specify dtype option on import or set low_memory=False.\n",
            "  df = pd.read_csv(path)\n"
          ]
        },
        {
          "output_type": "execute_result",
          "data": {
            "text/plain": [
              "   RACE  ETHNICITY  h4od1y  iyear4       AID  BIO_SEX        agew1  IMONTH4  \\\n",
              "0     2          0    1976    2008  57101310        2  19.42739726        5   \n",
              "1     5          0    1976    2008  57103869        1  20.43013699        5   \n",
              "2     2          0    1981    2008  57109625        1  15.17808219       11   \n",
              "3     2          0    1981    2008  57111071        1   14.9260274        6   \n",
              "4     2          0    1979    2008  57113943        1  17.34246575       11   \n",
              "\n",
              "   IDAY4   MACNO4  ...  H4EO5D  H4EO5E H4EO5F H4EO5G  H4EO5H  H4EO5I  H4EO5J  \\\n",
              "0      6  2288160  ...       0       0      0      0       0       0       0   \n",
              "1     22  2288238  ...       0       0      0      0       0       0       0   \n",
              "2      2  2288258  ...                                                         \n",
              "3     29  2288260  ...       0       0      0      0       0       0       0   \n",
              "4     11  2288282  ...       0       0      0      0       0       0       0   \n",
              "\n",
              "   H4EO6  H4EO7  AGE4  \n",
              "0      2      1    32  \n",
              "1      4      1    32  \n",
              "2                  27  \n",
              "3      1      2    27  \n",
              "4      5      3    29  \n",
              "\n",
              "[5 rows x 979 columns]"
            ],
            "text/html": [
              "\n",
              "  <div id=\"df-db3e44a7-a771-4412-8558-119ffd637c60\" class=\"colab-df-container\">\n",
              "    <div>\n",
              "<style scoped>\n",
              "    .dataframe tbody tr th:only-of-type {\n",
              "        vertical-align: middle;\n",
              "    }\n",
              "\n",
              "    .dataframe tbody tr th {\n",
              "        vertical-align: top;\n",
              "    }\n",
              "\n",
              "    .dataframe thead th {\n",
              "        text-align: right;\n",
              "    }\n",
              "</style>\n",
              "<table border=\"1\" class=\"dataframe\">\n",
              "  <thead>\n",
              "    <tr style=\"text-align: right;\">\n",
              "      <th></th>\n",
              "      <th>RACE</th>\n",
              "      <th>ETHNICITY</th>\n",
              "      <th>h4od1y</th>\n",
              "      <th>iyear4</th>\n",
              "      <th>AID</th>\n",
              "      <th>BIO_SEX</th>\n",
              "      <th>agew1</th>\n",
              "      <th>IMONTH4</th>\n",
              "      <th>IDAY4</th>\n",
              "      <th>MACNO4</th>\n",
              "      <th>...</th>\n",
              "      <th>H4EO5D</th>\n",
              "      <th>H4EO5E</th>\n",
              "      <th>H4EO5F</th>\n",
              "      <th>H4EO5G</th>\n",
              "      <th>H4EO5H</th>\n",
              "      <th>H4EO5I</th>\n",
              "      <th>H4EO5J</th>\n",
              "      <th>H4EO6</th>\n",
              "      <th>H4EO7</th>\n",
              "      <th>AGE4</th>\n",
              "    </tr>\n",
              "  </thead>\n",
              "  <tbody>\n",
              "    <tr>\n",
              "      <th>0</th>\n",
              "      <td>2</td>\n",
              "      <td>0</td>\n",
              "      <td>1976</td>\n",
              "      <td>2008</td>\n",
              "      <td>57101310</td>\n",
              "      <td>2</td>\n",
              "      <td>19.42739726</td>\n",
              "      <td>5</td>\n",
              "      <td>6</td>\n",
              "      <td>2288160</td>\n",
              "      <td>...</td>\n",
              "      <td>0</td>\n",
              "      <td>0</td>\n",
              "      <td>0</td>\n",
              "      <td>0</td>\n",
              "      <td>0</td>\n",
              "      <td>0</td>\n",
              "      <td>0</td>\n",
              "      <td>2</td>\n",
              "      <td>1</td>\n",
              "      <td>32</td>\n",
              "    </tr>\n",
              "    <tr>\n",
              "      <th>1</th>\n",
              "      <td>5</td>\n",
              "      <td>0</td>\n",
              "      <td>1976</td>\n",
              "      <td>2008</td>\n",
              "      <td>57103869</td>\n",
              "      <td>1</td>\n",
              "      <td>20.43013699</td>\n",
              "      <td>5</td>\n",
              "      <td>22</td>\n",
              "      <td>2288238</td>\n",
              "      <td>...</td>\n",
              "      <td>0</td>\n",
              "      <td>0</td>\n",
              "      <td>0</td>\n",
              "      <td>0</td>\n",
              "      <td>0</td>\n",
              "      <td>0</td>\n",
              "      <td>0</td>\n",
              "      <td>4</td>\n",
              "      <td>1</td>\n",
              "      <td>32</td>\n",
              "    </tr>\n",
              "    <tr>\n",
              "      <th>2</th>\n",
              "      <td>2</td>\n",
              "      <td>0</td>\n",
              "      <td>1981</td>\n",
              "      <td>2008</td>\n",
              "      <td>57109625</td>\n",
              "      <td>1</td>\n",
              "      <td>15.17808219</td>\n",
              "      <td>11</td>\n",
              "      <td>2</td>\n",
              "      <td>2288258</td>\n",
              "      <td>...</td>\n",
              "      <td></td>\n",
              "      <td></td>\n",
              "      <td></td>\n",
              "      <td></td>\n",
              "      <td></td>\n",
              "      <td></td>\n",
              "      <td></td>\n",
              "      <td></td>\n",
              "      <td></td>\n",
              "      <td>27</td>\n",
              "    </tr>\n",
              "    <tr>\n",
              "      <th>3</th>\n",
              "      <td>2</td>\n",
              "      <td>0</td>\n",
              "      <td>1981</td>\n",
              "      <td>2008</td>\n",
              "      <td>57111071</td>\n",
              "      <td>1</td>\n",
              "      <td>14.9260274</td>\n",
              "      <td>6</td>\n",
              "      <td>29</td>\n",
              "      <td>2288260</td>\n",
              "      <td>...</td>\n",
              "      <td>0</td>\n",
              "      <td>0</td>\n",
              "      <td>0</td>\n",
              "      <td>0</td>\n",
              "      <td>0</td>\n",
              "      <td>0</td>\n",
              "      <td>0</td>\n",
              "      <td>1</td>\n",
              "      <td>2</td>\n",
              "      <td>27</td>\n",
              "    </tr>\n",
              "    <tr>\n",
              "      <th>4</th>\n",
              "      <td>2</td>\n",
              "      <td>0</td>\n",
              "      <td>1979</td>\n",
              "      <td>2008</td>\n",
              "      <td>57113943</td>\n",
              "      <td>1</td>\n",
              "      <td>17.34246575</td>\n",
              "      <td>11</td>\n",
              "      <td>11</td>\n",
              "      <td>2288282</td>\n",
              "      <td>...</td>\n",
              "      <td>0</td>\n",
              "      <td>0</td>\n",
              "      <td>0</td>\n",
              "      <td>0</td>\n",
              "      <td>0</td>\n",
              "      <td>0</td>\n",
              "      <td>0</td>\n",
              "      <td>5</td>\n",
              "      <td>3</td>\n",
              "      <td>29</td>\n",
              "    </tr>\n",
              "  </tbody>\n",
              "</table>\n",
              "<p>5 rows × 979 columns</p>\n",
              "</div>\n",
              "    <div class=\"colab-df-buttons\">\n",
              "\n",
              "  <div class=\"colab-df-container\">\n",
              "    <button class=\"colab-df-convert\" onclick=\"convertToInteractive('df-db3e44a7-a771-4412-8558-119ffd637c60')\"\n",
              "            title=\"Convert this dataframe to an interactive table.\"\n",
              "            style=\"display:none;\">\n",
              "\n",
              "  <svg xmlns=\"http://www.w3.org/2000/svg\" height=\"24px\" viewBox=\"0 -960 960 960\">\n",
              "    <path d=\"M120-120v-720h720v720H120Zm60-500h600v-160H180v160Zm220 220h160v-160H400v160Zm0 220h160v-160H400v160ZM180-400h160v-160H180v160Zm440 0h160v-160H620v160ZM180-180h160v-160H180v160Zm440 0h160v-160H620v160Z\"/>\n",
              "  </svg>\n",
              "    </button>\n",
              "\n",
              "  <style>\n",
              "    .colab-df-container {\n",
              "      display:flex;\n",
              "      gap: 12px;\n",
              "    }\n",
              "\n",
              "    .colab-df-convert {\n",
              "      background-color: #E8F0FE;\n",
              "      border: none;\n",
              "      border-radius: 50%;\n",
              "      cursor: pointer;\n",
              "      display: none;\n",
              "      fill: #1967D2;\n",
              "      height: 32px;\n",
              "      padding: 0 0 0 0;\n",
              "      width: 32px;\n",
              "    }\n",
              "\n",
              "    .colab-df-convert:hover {\n",
              "      background-color: #E2EBFA;\n",
              "      box-shadow: 0px 1px 2px rgba(60, 64, 67, 0.3), 0px 1px 3px 1px rgba(60, 64, 67, 0.15);\n",
              "      fill: #174EA6;\n",
              "    }\n",
              "\n",
              "    .colab-df-buttons div {\n",
              "      margin-bottom: 4px;\n",
              "    }\n",
              "\n",
              "    [theme=dark] .colab-df-convert {\n",
              "      background-color: #3B4455;\n",
              "      fill: #D2E3FC;\n",
              "    }\n",
              "\n",
              "    [theme=dark] .colab-df-convert:hover {\n",
              "      background-color: #434B5C;\n",
              "      box-shadow: 0px 1px 3px 1px rgba(0, 0, 0, 0.15);\n",
              "      filter: drop-shadow(0px 1px 2px rgba(0, 0, 0, 0.3));\n",
              "      fill: #FFFFFF;\n",
              "    }\n",
              "  </style>\n",
              "\n",
              "    <script>\n",
              "      const buttonEl =\n",
              "        document.querySelector('#df-db3e44a7-a771-4412-8558-119ffd637c60 button.colab-df-convert');\n",
              "      buttonEl.style.display =\n",
              "        google.colab.kernel.accessAllowed ? 'block' : 'none';\n",
              "\n",
              "      async function convertToInteractive(key) {\n",
              "        const element = document.querySelector('#df-db3e44a7-a771-4412-8558-119ffd637c60');\n",
              "        const dataTable =\n",
              "          await google.colab.kernel.invokeFunction('convertToInteractive',\n",
              "                                                    [key], {});\n",
              "        if (!dataTable) return;\n",
              "\n",
              "        const docLinkHtml = 'Like what you see? Visit the ' +\n",
              "          '<a target=\"_blank\" href=https://colab.research.google.com/notebooks/data_table.ipynb>data table notebook</a>'\n",
              "          + ' to learn more about interactive tables.';\n",
              "        element.innerHTML = '';\n",
              "        dataTable['output_type'] = 'display_data';\n",
              "        await google.colab.output.renderOutput(dataTable, element);\n",
              "        const docLink = document.createElement('div');\n",
              "        docLink.innerHTML = docLinkHtml;\n",
              "        element.appendChild(docLink);\n",
              "      }\n",
              "    </script>\n",
              "  </div>\n",
              "\n",
              "\n",
              "<div id=\"df-9d57edd6-cfb4-44ae-a876-9df7ad684697\">\n",
              "  <button class=\"colab-df-quickchart\" onclick=\"quickchart('df-9d57edd6-cfb4-44ae-a876-9df7ad684697')\"\n",
              "            title=\"Suggest charts\"\n",
              "            style=\"display:none;\">\n",
              "\n",
              "<svg xmlns=\"http://www.w3.org/2000/svg\" height=\"24px\"viewBox=\"0 0 24 24\"\n",
              "     width=\"24px\">\n",
              "    <g>\n",
              "        <path d=\"M19 3H5c-1.1 0-2 .9-2 2v14c0 1.1.9 2 2 2h14c1.1 0 2-.9 2-2V5c0-1.1-.9-2-2-2zM9 17H7v-7h2v7zm4 0h-2V7h2v10zm4 0h-2v-4h2v4z\"/>\n",
              "    </g>\n",
              "</svg>\n",
              "  </button>\n",
              "\n",
              "<style>\n",
              "  .colab-df-quickchart {\n",
              "      --bg-color: #E8F0FE;\n",
              "      --fill-color: #1967D2;\n",
              "      --hover-bg-color: #E2EBFA;\n",
              "      --hover-fill-color: #174EA6;\n",
              "      --disabled-fill-color: #AAA;\n",
              "      --disabled-bg-color: #DDD;\n",
              "  }\n",
              "\n",
              "  [theme=dark] .colab-df-quickchart {\n",
              "      --bg-color: #3B4455;\n",
              "      --fill-color: #D2E3FC;\n",
              "      --hover-bg-color: #434B5C;\n",
              "      --hover-fill-color: #FFFFFF;\n",
              "      --disabled-bg-color: #3B4455;\n",
              "      --disabled-fill-color: #666;\n",
              "  }\n",
              "\n",
              "  .colab-df-quickchart {\n",
              "    background-color: var(--bg-color);\n",
              "    border: none;\n",
              "    border-radius: 50%;\n",
              "    cursor: pointer;\n",
              "    display: none;\n",
              "    fill: var(--fill-color);\n",
              "    height: 32px;\n",
              "    padding: 0;\n",
              "    width: 32px;\n",
              "  }\n",
              "\n",
              "  .colab-df-quickchart:hover {\n",
              "    background-color: var(--hover-bg-color);\n",
              "    box-shadow: 0 1px 2px rgba(60, 64, 67, 0.3), 0 1px 3px 1px rgba(60, 64, 67, 0.15);\n",
              "    fill: var(--button-hover-fill-color);\n",
              "  }\n",
              "\n",
              "  .colab-df-quickchart-complete:disabled,\n",
              "  .colab-df-quickchart-complete:disabled:hover {\n",
              "    background-color: var(--disabled-bg-color);\n",
              "    fill: var(--disabled-fill-color);\n",
              "    box-shadow: none;\n",
              "  }\n",
              "\n",
              "  .colab-df-spinner {\n",
              "    border: 2px solid var(--fill-color);\n",
              "    border-color: transparent;\n",
              "    border-bottom-color: var(--fill-color);\n",
              "    animation:\n",
              "      spin 1s steps(1) infinite;\n",
              "  }\n",
              "\n",
              "  @keyframes spin {\n",
              "    0% {\n",
              "      border-color: transparent;\n",
              "      border-bottom-color: var(--fill-color);\n",
              "      border-left-color: var(--fill-color);\n",
              "    }\n",
              "    20% {\n",
              "      border-color: transparent;\n",
              "      border-left-color: var(--fill-color);\n",
              "      border-top-color: var(--fill-color);\n",
              "    }\n",
              "    30% {\n",
              "      border-color: transparent;\n",
              "      border-left-color: var(--fill-color);\n",
              "      border-top-color: var(--fill-color);\n",
              "      border-right-color: var(--fill-color);\n",
              "    }\n",
              "    40% {\n",
              "      border-color: transparent;\n",
              "      border-right-color: var(--fill-color);\n",
              "      border-top-color: var(--fill-color);\n",
              "    }\n",
              "    60% {\n",
              "      border-color: transparent;\n",
              "      border-right-color: var(--fill-color);\n",
              "    }\n",
              "    80% {\n",
              "      border-color: transparent;\n",
              "      border-right-color: var(--fill-color);\n",
              "      border-bottom-color: var(--fill-color);\n",
              "    }\n",
              "    90% {\n",
              "      border-color: transparent;\n",
              "      border-bottom-color: var(--fill-color);\n",
              "    }\n",
              "  }\n",
              "</style>\n",
              "\n",
              "  <script>\n",
              "    async function quickchart(key) {\n",
              "      const quickchartButtonEl =\n",
              "        document.querySelector('#' + key + ' button');\n",
              "      quickchartButtonEl.disabled = true;  // To prevent multiple clicks.\n",
              "      quickchartButtonEl.classList.add('colab-df-spinner');\n",
              "      try {\n",
              "        const charts = await google.colab.kernel.invokeFunction(\n",
              "            'suggestCharts', [key], {});\n",
              "      } catch (error) {\n",
              "        console.error('Error during call to suggestCharts:', error);\n",
              "      }\n",
              "      quickchartButtonEl.classList.remove('colab-df-spinner');\n",
              "      quickchartButtonEl.classList.add('colab-df-quickchart-complete');\n",
              "    }\n",
              "    (() => {\n",
              "      let quickchartButtonEl =\n",
              "        document.querySelector('#df-9d57edd6-cfb4-44ae-a876-9df7ad684697 button');\n",
              "      quickchartButtonEl.style.display =\n",
              "        google.colab.kernel.accessAllowed ? 'block' : 'none';\n",
              "    })();\n",
              "  </script>\n",
              "</div>\n",
              "    </div>\n",
              "  </div>\n"
            ]
          },
          "metadata": {},
          "execution_count": 3
        }
      ]
    },
    {
      "cell_type": "markdown",
      "source": [
        "# Variable Codebook: H4GH6\n",
        "![image.png](data:image/png;base64,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)"
      ],
      "metadata": {
        "id": "xWwssjLYThn8"
      }
    },
    {
      "cell_type": "code",
      "source": [
        "df['H4GH6'].dtype"
      ],
      "metadata": {
        "id": "3qpjglrQ0geo",
        "colab": {
          "base_uri": "https://localhost:8080/"
        },
        "outputId": "febd45cd-3dbb-4e47-bb10-e661bdda3306"
      },
      "execution_count": 4,
      "outputs": [
        {
          "output_type": "execute_result",
          "data": {
            "text/plain": [
              "dtype('int64')"
            ]
          },
          "metadata": {},
          "execution_count": 4
        }
      ]
    },
    {
      "cell_type": "code",
      "source": [
        "#Create new variable 'current_weight' and check the dtype\n",
        "df['current_weight'] = df['H4GH6']\n",
        "df['current_weight'].dtype"
      ],
      "metadata": {
        "id": "MGGd7LiF0gmX",
        "colab": {
          "base_uri": "https://localhost:8080/"
        },
        "outputId": "5ed44146-07ed-4b90-b456-ca360e520070"
      },
      "execution_count": 5,
      "outputs": [
        {
          "output_type": "execute_result",
          "data": {
            "text/plain": [
              "dtype('int64')"
            ]
          },
          "metadata": {},
          "execution_count": 5
        }
      ]
    },
    {
      "cell_type": "code",
      "source": [
        "#Change data type to numeric (integer) if necessary\n"
      ],
      "metadata": {
        "id": "oN2amNjzY7nZ"
      },
      "execution_count": 6,
      "outputs": []
    },
    {
      "cell_type": "code",
      "source": [
        "#Remove missing values and refused and I don't know (Check max)\n",
        "df['current_weight'] = df['current_weight'].loc[ df['current_weight'] != ' ' ]\n",
        "df['current_weight'] = df['current_weight'].loc[ df['current_weight'] < 996 ]\n",
        "df['current_weight'].max()"
      ],
      "metadata": {
        "id": "8-tgAw8Q0gp0",
        "colab": {
          "base_uri": "https://localhost:8080/"
        },
        "outputId": "3ae1d8b1-bbac-4a78-e8e0-e0060a09b1c8"
      },
      "execution_count": 7,
      "outputs": [
        {
          "output_type": "execute_result",
          "data": {
            "text/plain": [
              "525.0"
            ]
          },
          "metadata": {},
          "execution_count": 7
        }
      ]
    },
    {
      "cell_type": "code",
      "source": [
        "#Check average\n",
        "df['current_weight'].mean()"
      ],
      "metadata": {
        "id": "3Da-EJON0gs7",
        "colab": {
          "base_uri": "https://localhost:8080/"
        },
        "outputId": "50e2663b-b6c1-4730-f597-12c70802f56b"
      },
      "execution_count": 8,
      "outputs": [
        {
          "output_type": "execute_result",
          "data": {
            "text/plain": [
              "184.05004965243296"
            ]
          },
          "metadata": {},
          "execution_count": 8
        }
      ]
    },
    {
      "cell_type": "code",
      "source": [
        "#Use describe()\n",
        "\n",
        "df['current_weight'].describe()"
      ],
      "metadata": {
        "id": "lf0HY9yUaZ51",
        "colab": {
          "base_uri": "https://localhost:8080/"
        },
        "outputId": "12a764ce-4297-4903-8984-7850d630c6b4"
      },
      "execution_count": 9,
      "outputs": [
        {
          "output_type": "execute_result",
          "data": {
            "text/plain": [
              "count    5035.000000\n",
              "mean      184.050050\n",
              "std        49.337308\n",
              "min        18.000000\n",
              "25%       150.000000\n",
              "50%       178.000000\n",
              "75%       211.000000\n",
              "max       525.000000\n",
              "Name: current_weight, dtype: float64"
            ]
          },
          "metadata": {},
          "execution_count": 9
        }
      ]
    },
    {
      "cell_type": "code",
      "source": [
        "pip install researchpy"
      ],
      "metadata": {
        "id": "YllnPN050gv1",
        "colab": {
          "base_uri": "https://localhost:8080/"
        },
        "outputId": "77b7edcd-bd9b-4f35-d2d2-890600853a18"
      },
      "execution_count": 10,
      "outputs": [
        {
          "output_type": "stream",
          "name": "stdout",
          "text": [
            "Collecting researchpy\n",
            "  Downloading researchpy-0.3.5-py3-none-any.whl (33 kB)\n",
            "Requirement already satisfied: scipy in /usr/local/lib/python3.10/dist-packages (from researchpy) (1.11.3)\n",
            "Requirement already satisfied: numpy in /usr/local/lib/python3.10/dist-packages (from researchpy) (1.23.5)\n",
            "Requirement already satisfied: pandas in /usr/local/lib/python3.10/dist-packages (from researchpy) (1.5.3)\n",
            "Requirement already satisfied: statsmodels in /usr/local/lib/python3.10/dist-packages (from researchpy) (0.14.0)\n",
            "Requirement already satisfied: patsy in /usr/local/lib/python3.10/dist-packages (from researchpy) (0.5.3)\n",
            "Requirement already satisfied: python-dateutil>=2.8.1 in /usr/local/lib/python3.10/dist-packages (from pandas->researchpy) (2.8.2)\n",
            "Requirement already satisfied: pytz>=2020.1 in /usr/local/lib/python3.10/dist-packages (from pandas->researchpy) (2023.3.post1)\n",
            "Requirement already satisfied: six in /usr/local/lib/python3.10/dist-packages (from patsy->researchpy) (1.16.0)\n",
            "Requirement already satisfied: packaging>=21.3 in /usr/local/lib/python3.10/dist-packages (from statsmodels->researchpy) (23.2)\n",
            "Installing collected packages: researchpy\n",
            "Successfully installed researchpy-0.3.5\n"
          ]
        }
      ]
    },
    {
      "cell_type": "code",
      "source": [
        "#import researchPy\n",
        "import researchpy as rp"
      ],
      "metadata": {
        "id": "RNKTtIq91Q75"
      },
      "execution_count": 11,
      "outputs": []
    },
    {
      "cell_type": "code",
      "source": [
        "#Create summary stats using ResearchPy\n",
        "rp.summary_cont( df['current_weight'])"
      ],
      "metadata": {
        "id": "-7pnjIva1W2B",
        "colab": {
          "base_uri": "https://localhost:8080/",
          "height": 115
        },
        "outputId": "10f3a07f-7f43-411a-fd78-8ecbc263bb93"
      },
      "execution_count": 12,
      "outputs": [
        {
          "output_type": "stream",
          "name": "stdout",
          "text": [
            "\n",
            "\n"
          ]
        },
        {
          "output_type": "execute_result",
          "data": {
            "text/plain": [
              "         Variable       N    Mean       SD      SE  95% Conf.  Interval\n",
              "0  current_weight  5035.0  184.05  49.3373  0.6953   182.6869  185.4132"
            ],
            "text/html": [
              "\n",
              "  <div id=\"df-81175cb8-7028-4140-b3ec-8f0e8e06519d\" class=\"colab-df-container\">\n",
              "    <div>\n",
              "<style scoped>\n",
              "    .dataframe tbody tr th:only-of-type {\n",
              "        vertical-align: middle;\n",
              "    }\n",
              "\n",
              "    .dataframe tbody tr th {\n",
              "        vertical-align: top;\n",
              "    }\n",
              "\n",
              "    .dataframe thead th {\n",
              "        text-align: right;\n",
              "    }\n",
              "</style>\n",
              "<table border=\"1\" class=\"dataframe\">\n",
              "  <thead>\n",
              "    <tr style=\"text-align: right;\">\n",
              "      <th></th>\n",
              "      <th>Variable</th>\n",
              "      <th>N</th>\n",
              "      <th>Mean</th>\n",
              "      <th>SD</th>\n",
              "      <th>SE</th>\n",
              "      <th>95% Conf.</th>\n",
              "      <th>Interval</th>\n",
              "    </tr>\n",
              "  </thead>\n",
              "  <tbody>\n",
              "    <tr>\n",
              "      <th>0</th>\n",
              "      <td>current_weight</td>\n",
              "      <td>5035.0</td>\n",
              "      <td>184.05</td>\n",
              "      <td>49.3373</td>\n",
              "      <td>0.6953</td>\n",
              "      <td>182.6869</td>\n",
              "      <td>185.4132</td>\n",
              "    </tr>\n",
              "  </tbody>\n",
              "</table>\n",
              "</div>\n",
              "    <div class=\"colab-df-buttons\">\n",
              "\n",
              "  <div class=\"colab-df-container\">\n",
              "    <button class=\"colab-df-convert\" onclick=\"convertToInteractive('df-81175cb8-7028-4140-b3ec-8f0e8e06519d')\"\n",
              "            title=\"Convert this dataframe to an interactive table.\"\n",
              "            style=\"display:none;\">\n",
              "\n",
              "  <svg xmlns=\"http://www.w3.org/2000/svg\" height=\"24px\" viewBox=\"0 -960 960 960\">\n",
              "    <path d=\"M120-120v-720h720v720H120Zm60-500h600v-160H180v160Zm220 220h160v-160H400v160Zm0 220h160v-160H400v160ZM180-400h160v-160H180v160Zm440 0h160v-160H620v160ZM180-180h160v-160H180v160Zm440 0h160v-160H620v160Z\"/>\n",
              "  </svg>\n",
              "    </button>\n",
              "\n",
              "  <style>\n",
              "    .colab-df-container {\n",
              "      display:flex;\n",
              "      gap: 12px;\n",
              "    }\n",
              "\n",
              "    .colab-df-convert {\n",
              "      background-color: #E8F0FE;\n",
              "      border: none;\n",
              "      border-radius: 50%;\n",
              "      cursor: pointer;\n",
              "      display: none;\n",
              "      fill: #1967D2;\n",
              "      height: 32px;\n",
              "      padding: 0 0 0 0;\n",
              "      width: 32px;\n",
              "    }\n",
              "\n",
              "    .colab-df-convert:hover {\n",
              "      background-color: #E2EBFA;\n",
              "      box-shadow: 0px 1px 2px rgba(60, 64, 67, 0.3), 0px 1px 3px 1px rgba(60, 64, 67, 0.15);\n",
              "      fill: #174EA6;\n",
              "    }\n",
              "\n",
              "    .colab-df-buttons div {\n",
              "      margin-bottom: 4px;\n",
              "    }\n",
              "\n",
              "    [theme=dark] .colab-df-convert {\n",
              "      background-color: #3B4455;\n",
              "      fill: #D2E3FC;\n",
              "    }\n",
              "\n",
              "    [theme=dark] .colab-df-convert:hover {\n",
              "      background-color: #434B5C;\n",
              "      box-shadow: 0px 1px 3px 1px rgba(0, 0, 0, 0.15);\n",
              "      filter: drop-shadow(0px 1px 2px rgba(0, 0, 0, 0.3));\n",
              "      fill: #FFFFFF;\n",
              "    }\n",
              "  </style>\n",
              "\n",
              "    <script>\n",
              "      const buttonEl =\n",
              "        document.querySelector('#df-81175cb8-7028-4140-b3ec-8f0e8e06519d button.colab-df-convert');\n",
              "      buttonEl.style.display =\n",
              "        google.colab.kernel.accessAllowed ? 'block' : 'none';\n",
              "\n",
              "      async function convertToInteractive(key) {\n",
              "        const element = document.querySelector('#df-81175cb8-7028-4140-b3ec-8f0e8e06519d');\n",
              "        const dataTable =\n",
              "          await google.colab.kernel.invokeFunction('convertToInteractive',\n",
              "                                                    [key], {});\n",
              "        if (!dataTable) return;\n",
              "\n",
              "        const docLinkHtml = 'Like what you see? Visit the ' +\n",
              "          '<a target=\"_blank\" href=https://colab.research.google.com/notebooks/data_table.ipynb>data table notebook</a>'\n",
              "          + ' to learn more about interactive tables.';\n",
              "        element.innerHTML = '';\n",
              "        dataTable['output_type'] = 'display_data';\n",
              "        await google.colab.output.renderOutput(dataTable, element);\n",
              "        const docLink = document.createElement('div');\n",
              "        docLink.innerHTML = docLinkHtml;\n",
              "        element.appendChild(docLink);\n",
              "      }\n",
              "    </script>\n",
              "  </div>\n",
              "\n",
              "    </div>\n",
              "  </div>\n"
            ]
          },
          "metadata": {},
          "execution_count": 12
        }
      ]
    },
    {
      "cell_type": "code",
      "source": [
        "rp.summarize( df['current_weight'])"
      ],
      "metadata": {
        "id": "FhEhZOBEJEqv",
        "colab": {
          "base_uri": "https://localhost:8080/",
          "height": 81
        },
        "outputId": "684df285-f068-4459-c099-65d493b92998"
      },
      "execution_count": 13,
      "outputs": [
        {
          "output_type": "execute_result",
          "data": {
            "text/plain": [
              "             Name     N    Mean Median   Variance       SD      SE  \\\n",
              "0  current_weight  5035  184.05  178.0  2434.1699  49.3373  0.6953   \n",
              "\n",
              "     95% Conf. Interval  \n",
              "0  [182.6869, 185.4132]  "
            ],
            "text/html": [
              "\n",
              "  <div id=\"df-afdbc922-f0ee-4cdb-b506-81e4f7a903b9\" class=\"colab-df-container\">\n",
              "    <div>\n",
              "<style scoped>\n",
              "    .dataframe tbody tr th:only-of-type {\n",
              "        vertical-align: middle;\n",
              "    }\n",
              "\n",
              "    .dataframe tbody tr th {\n",
              "        vertical-align: top;\n",
              "    }\n",
              "\n",
              "    .dataframe thead th {\n",
              "        text-align: right;\n",
              "    }\n",
              "</style>\n",
              "<table border=\"1\" class=\"dataframe\">\n",
              "  <thead>\n",
              "    <tr style=\"text-align: right;\">\n",
              "      <th></th>\n",
              "      <th>Name</th>\n",
              "      <th>N</th>\n",
              "      <th>Mean</th>\n",
              "      <th>Median</th>\n",
              "      <th>Variance</th>\n",
              "      <th>SD</th>\n",
              "      <th>SE</th>\n",
              "      <th>95% Conf. Interval</th>\n",
              "    </tr>\n",
              "  </thead>\n",
              "  <tbody>\n",
              "    <tr>\n",
              "      <th>0</th>\n",
              "      <td>current_weight</td>\n",
              "      <td>5035</td>\n",
              "      <td>184.05</td>\n",
              "      <td>178.0</td>\n",
              "      <td>2434.1699</td>\n",
              "      <td>49.3373</td>\n",
              "      <td>0.6953</td>\n",
              "      <td>[182.6869, 185.4132]</td>\n",
              "    </tr>\n",
              "  </tbody>\n",
              "</table>\n",
              "</div>\n",
              "    <div class=\"colab-df-buttons\">\n",
              "\n",
              "  <div class=\"colab-df-container\">\n",
              "    <button class=\"colab-df-convert\" onclick=\"convertToInteractive('df-afdbc922-f0ee-4cdb-b506-81e4f7a903b9')\"\n",
              "            title=\"Convert this dataframe to an interactive table.\"\n",
              "            style=\"display:none;\">\n",
              "\n",
              "  <svg xmlns=\"http://www.w3.org/2000/svg\" height=\"24px\" viewBox=\"0 -960 960 960\">\n",
              "    <path d=\"M120-120v-720h720v720H120Zm60-500h600v-160H180v160Zm220 220h160v-160H400v160Zm0 220h160v-160H400v160ZM180-400h160v-160H180v160Zm440 0h160v-160H620v160ZM180-180h160v-160H180v160Zm440 0h160v-160H620v160Z\"/>\n",
              "  </svg>\n",
              "    </button>\n",
              "\n",
              "  <style>\n",
              "    .colab-df-container {\n",
              "      display:flex;\n",
              "      gap: 12px;\n",
              "    }\n",
              "\n",
              "    .colab-df-convert {\n",
              "      background-color: #E8F0FE;\n",
              "      border: none;\n",
              "      border-radius: 50%;\n",
              "      cursor: pointer;\n",
              "      display: none;\n",
              "      fill: #1967D2;\n",
              "      height: 32px;\n",
              "      padding: 0 0 0 0;\n",
              "      width: 32px;\n",
              "    }\n",
              "\n",
              "    .colab-df-convert:hover {\n",
              "      background-color: #E2EBFA;\n",
              "      box-shadow: 0px 1px 2px rgba(60, 64, 67, 0.3), 0px 1px 3px 1px rgba(60, 64, 67, 0.15);\n",
              "      fill: #174EA6;\n",
              "    }\n",
              "\n",
              "    .colab-df-buttons div {\n",
              "      margin-bottom: 4px;\n",
              "    }\n",
              "\n",
              "    [theme=dark] .colab-df-convert {\n",
              "      background-color: #3B4455;\n",
              "      fill: #D2E3FC;\n",
              "    }\n",
              "\n",
              "    [theme=dark] .colab-df-convert:hover {\n",
              "      background-color: #434B5C;\n",
              "      box-shadow: 0px 1px 3px 1px rgba(0, 0, 0, 0.15);\n",
              "      filter: drop-shadow(0px 1px 2px rgba(0, 0, 0, 0.3));\n",
              "      fill: #FFFFFF;\n",
              "    }\n",
              "  </style>\n",
              "\n",
              "    <script>\n",
              "      const buttonEl =\n",
              "        document.querySelector('#df-afdbc922-f0ee-4cdb-b506-81e4f7a903b9 button.colab-df-convert');\n",
              "      buttonEl.style.display =\n",
              "        google.colab.kernel.accessAllowed ? 'block' : 'none';\n",
              "\n",
              "      async function convertToInteractive(key) {\n",
              "        const element = document.querySelector('#df-afdbc922-f0ee-4cdb-b506-81e4f7a903b9');\n",
              "        const dataTable =\n",
              "          await google.colab.kernel.invokeFunction('convertToInteractive',\n",
              "                                                    [key], {});\n",
              "        if (!dataTable) return;\n",
              "\n",
              "        const docLinkHtml = 'Like what you see? Visit the ' +\n",
              "          '<a target=\"_blank\" href=https://colab.research.google.com/notebooks/data_table.ipynb>data table notebook</a>'\n",
              "          + ' to learn more about interactive tables.';\n",
              "        element.innerHTML = '';\n",
              "        dataTable['output_type'] = 'display_data';\n",
              "        await google.colab.output.renderOutput(dataTable, element);\n",
              "        const docLink = document.createElement('div');\n",
              "        docLink.innerHTML = docLinkHtml;\n",
              "        element.appendChild(docLink);\n",
              "      }\n",
              "    </script>\n",
              "  </div>\n",
              "\n",
              "    </div>\n",
              "  </div>\n"
            ]
          },
          "metadata": {},
          "execution_count": 13
        }
      ]
    },
    {
      "cell_type": "code",
      "source": [
        "import seaborn as sns"
      ],
      "metadata": {
        "id": "sH1e6sVJaeTz"
      },
      "execution_count": 14,
      "outputs": []
    },
    {
      "cell_type": "code",
      "source": [
        "#Create a histogram with normal curve [kde =True]\n",
        "sns.histplot( x ='current_weight' , data = df, bins = 15, kde = True)"
      ],
      "metadata": {
        "id": "tyi_t0ZZagyk",
        "colab": {
          "base_uri": "https://localhost:8080/",
          "height": 467
        },
        "outputId": "284a3a48-a316-4bca-98ed-e2b813d93423"
      },
      "execution_count": 15,
      "outputs": [
        {
          "output_type": "execute_result",
          "data": {
            "text/plain": [
              "<Axes: xlabel='current_weight', ylabel='Count'>"
            ]
          },
          "metadata": {},
          "execution_count": 15
        },
        {
          "output_type": "display_data",
          "data": {
            "text/plain": [
              "<Figure size 640x480 with 1 Axes>"
            ],
            "image/png": "[encoded data removed]"
          },
          "metadata": {}
        }
      ]
    },
    {
      "cell_type": "code",
      "source": [
        "#Create a boxplot\n",
        "sns.boxplot( x ='current_weight' , data = df)"
      ],
      "metadata": {
        "id": "uOtuK9B5at46",
        "colab": {
          "base_uri": "https://localhost:8080/",
          "height": 467
        },
        "outputId": "aea66946-c566-460f-b1f2-0d8d158e5eb1"
      },
      "execution_count": 16,
      "outputs": [
        {
          "output_type": "execute_result",
          "data": {
            "text/plain": [
              "<Axes: xlabel='current_weight'>"
            ]
          },
          "metadata": {},
          "execution_count": 16
        },
        {
          "output_type": "display_data",
          "data": {
            "text/plain": [
              "<Figure size 640x480 with 1 Axes>"
            ],
            "image/png": "[encoded data removed]"
          },
          "metadata": {}
        }
      ]
    },
    {
      "cell_type": "code",
      "source": [
        "df['H4EC2'].dtype"
      ],
      "metadata": {
        "colab": {
          "base_uri": "https://localhost:8080/"
        },
        "id": "nn_oE_jqCApl",
        "outputId": "beeefb84-d0c3-41e2-9de7-6d67d56fddea"
      },
      "execution_count": 17,
      "outputs": [
        {
          "output_type": "execute_result",
          "data": {
            "text/plain": [
              "dtype('int64')"
            ]
          },
          "metadata": {},
          "execution_count": 17
        }
      ]
    },
    {
      "cell_type": "code",
      "source": [
        "#Create new variable 'current_weight' and check the dtype\n",
        "df['personal_earnings'] = df['H4EC2']\n",
        "df['personal_earnings'].dtype"
      ],
      "metadata": {
        "colab": {
          "base_uri": "https://localhost:8080/"
        },
        "id": "QsYZrHejCD8S",
        "outputId": "7aa08739-5b4d-43fe-f4e3-4800b13ba641"
      },
      "execution_count": 18,
      "outputs": [
        {
          "output_type": "execute_result",
          "data": {
            "text/plain": [
              "dtype('int64')"
            ]
          },
          "metadata": {},
          "execution_count": 18
        }
      ]
    },
    {
      "cell_type": "code",
      "source": [
        "#Remove missing values and refused and I don't know (Check max)\n",
        "df['personal_earnings'] = df['personal_earnings'].loc[ df['personal_earnings'] != ' ' ]\n",
        "df['personal_earnings'] = df['personal_earnings'].loc[ df['personal_earnings'] < 999999 ]\n",
        "df['personal_earnings'].max()"
      ],
      "metadata": {
        "colab": {
          "base_uri": "https://localhost:8080/"
        },
        "id": "Ct0aXjJUCbLb",
        "outputId": "39f71c18-7276-48d0-9299-a6e1229b691d"
      },
      "execution_count": 19,
      "outputs": [
        {
          "output_type": "execute_result",
          "data": {
            "text/plain": [
              "999995.0"
            ]
          },
          "metadata": {},
          "execution_count": 19
        }
      ]
    },
    {
      "cell_type": "code",
      "source": [
        "df['personal_earnings'].mean()"
      ],
      "metadata": {
        "colab": {
          "base_uri": "https://localhost:8080/"
        },
        "id": "lJEwBbndCiBO",
        "outputId": "9f8d3227-7164-487f-c9d2-6f86d169da56"
      },
      "execution_count": 20,
      "outputs": [
        {
          "output_type": "execute_result",
          "data": {
            "text/plain": [
              "35045.991539413946"
            ]
          },
          "metadata": {},
          "execution_count": 20
        }
      ]
    },
    {
      "cell_type": "code",
      "source": [
        "df['personal_earnings'].describe()"
      ],
      "metadata": {
        "colab": {
          "base_uri": "https://localhost:8080/"
        },
        "id": "fT2__wX6CwKg",
        "outputId": "5e38ddfb-1830-41c1-92a6-72f995d7a259"
      },
      "execution_count": 21,
      "outputs": [
        {
          "output_type": "execute_result",
          "data": {
            "text/plain": [
              "count      4846.000000\n",
              "mean      35045.991539\n",
              "std       44694.892070\n",
              "min           0.000000\n",
              "25%       15000.000000\n",
              "50%       30000.000000\n",
              "75%       45000.000000\n",
              "max      999995.000000\n",
              "Name: personal_earnings, dtype: float64"
            ]
          },
          "metadata": {},
          "execution_count": 21
        }
      ]
    },
    {
      "cell_type": "code",
      "source": [
        "#Create summary stats using ResearchPy\n",
        "rp.summary_cont( df['personal_earnings'])"
      ],
      "metadata": {
        "colab": {
          "base_uri": "https://localhost:8080/",
          "height": 115
        },
        "id": "SmTb-0gPC2ce",
        "outputId": "4da61b18-5e87-4a56-b4bb-2486d5935c6d"
      },
      "execution_count": 22,
      "outputs": [
        {
          "output_type": "stream",
          "name": "stdout",
          "text": [
            "\n",
            "\n"
          ]
        },
        {
          "output_type": "execute_result",
          "data": {
            "text/plain": [
              "            Variable       N        Mean          SD        SE   95% Conf.  \\\n",
              "0  personal_earnings  4846.0  35045.9915  44694.8921  642.0461  33787.2899   \n",
              "\n",
              "     Interval  \n",
              "0  36304.6931  "
            ],
            "text/html": [
              "\n",
              "  <div id=\"df-bcc10038-9b54-40ab-a3c8-c6c3fe3d5b89\" class=\"colab-df-container\">\n",
              "    <div>\n",
              "<style scoped>\n",
              "    .dataframe tbody tr th:only-of-type {\n",
              "        vertical-align: middle;\n",
              "    }\n",
              "\n",
              "    .dataframe tbody tr th {\n",
              "        vertical-align: top;\n",
              "    }\n",
              "\n",
              "    .dataframe thead th {\n",
              "        text-align: right;\n",
              "    }\n",
              "</style>\n",
              "<table border=\"1\" class=\"dataframe\">\n",
              "  <thead>\n",
              "    <tr style=\"text-align: right;\">\n",
              "      <th></th>\n",
              "      <th>Variable</th>\n",
              "      <th>N</th>\n",
              "      <th>Mean</th>\n",
              "      <th>SD</th>\n",
              "      <th>SE</th>\n",
              "      <th>95% Conf.</th>\n",
              "      <th>Interval</th>\n",
              "    </tr>\n",
              "  </thead>\n",
              "  <tbody>\n",
              "    <tr>\n",
              "      <th>0</th>\n",
              "      <td>personal_earnings</td>\n",
              "      <td>4846.0</td>\n",
              "      <td>35045.9915</td>\n",
              "      <td>44694.8921</td>\n",
              "      <td>642.0461</td>\n",
              "      <td>33787.2899</td>\n",
              "      <td>36304.6931</td>\n",
              "    </tr>\n",
              "  </tbody>\n",
              "</table>\n",
              "</div>\n",
              "    <div class=\"colab-df-buttons\">\n",
              "\n",
              "  <div class=\"colab-df-container\">\n",
              "    <button class=\"colab-df-convert\" onclick=\"convertToInteractive('df-bcc10038-9b54-40ab-a3c8-c6c3fe3d5b89')\"\n",
              "            title=\"Convert this dataframe to an interactive table.\"\n",
              "            style=\"display:none;\">\n",
              "\n",
              "  <svg xmlns=\"http://www.w3.org/2000/svg\" height=\"24px\" viewBox=\"0 -960 960 960\">\n",
              "    <path d=\"M120-120v-720h720v720H120Zm60-500h600v-160H180v160Zm220 220h160v-160H400v160Zm0 220h160v-160H400v160ZM180-400h160v-160H180v160Zm440 0h160v-160H620v160ZM180-180h160v-160H180v160Zm440 0h160v-160H620v160Z\"/>\n",
              "  </svg>\n",
              "    </button>\n",
              "\n",
              "  <style>\n",
              "    .colab-df-container {\n",
              "      display:flex;\n",
              "      gap: 12px;\n",
              "    }\n",
              "\n",
              "    .colab-df-convert {\n",
              "      background-color: #E8F0FE;\n",
              "      border: none;\n",
              "      border-radius: 50%;\n",
              "      cursor: pointer;\n",
              "      display: none;\n",
              "      fill: #1967D2;\n",
              "      height: 32px;\n",
              "      padding: 0 0 0 0;\n",
              "      width: 32px;\n",
              "    }\n",
              "\n",
              "    .colab-df-convert:hover {\n",
              "      background-color: #E2EBFA;\n",
              "      box-shadow: 0px 1px 2px rgba(60, 64, 67, 0.3), 0px 1px 3px 1px rgba(60, 64, 67, 0.15);\n",
              "      fill: #174EA6;\n",
              "    }\n",
              "\n",
              "    .colab-df-buttons div {\n",
              "      margin-bottom: 4px;\n",
              "    }\n",
              "\n",
              "    [theme=dark] .colab-df-convert {\n",
              "      background-color: #3B4455;\n",
              "      fill: #D2E3FC;\n",
              "    }\n",
              "\n",
              "    [theme=dark] .colab-df-convert:hover {\n",
              "      background-color: #434B5C;\n",
              "      box-shadow: 0px 1px 3px 1px rgba(0, 0, 0, 0.15);\n",
              "      filter: drop-shadow(0px 1px 2px rgba(0, 0, 0, 0.3));\n",
              "      fill: #FFFFFF;\n",
              "    }\n",
              "  </style>\n",
              "\n",
              "    <script>\n",
              "      const buttonEl =\n",
              "        document.querySelector('#df-bcc10038-9b54-40ab-a3c8-c6c3fe3d5b89 button.colab-df-convert');\n",
              "      buttonEl.style.display =\n",
              "        google.colab.kernel.accessAllowed ? 'block' : 'none';\n",
              "\n",
              "      async function convertToInteractive(key) {\n",
              "        const element = document.querySelector('#df-bcc10038-9b54-40ab-a3c8-c6c3fe3d5b89');\n",
              "        const dataTable =\n",
              "          await google.colab.kernel.invokeFunction('convertToInteractive',\n",
              "                                                    [key], {});\n",
              "        if (!dataTable) return;\n",
              "\n",
              "        const docLinkHtml = 'Like what you see? Visit the ' +\n",
              "          '<a target=\"_blank\" href=https://colab.research.google.com/notebooks/data_table.ipynb>data table notebook</a>'\n",
              "          + ' to learn more about interactive tables.';\n",
              "        element.innerHTML = '';\n",
              "        dataTable['output_type'] = 'display_data';\n",
              "        await google.colab.output.renderOutput(dataTable, element);\n",
              "        const docLink = document.createElement('div');\n",
              "        docLink.innerHTML = docLinkHtml;\n",
              "        element.appendChild(docLink);\n",
              "      }\n",
              "    </script>\n",
              "  </div>\n",
              "\n",
              "    </div>\n",
              "  </div>\n"
            ]
          },
          "metadata": {},
          "execution_count": 22
        }
      ]
    },
    {
      "cell_type": "code",
      "source": [
        "rp.summarize( df['personal_earnings'])"
      ],
      "metadata": {
        "colab": {
          "base_uri": "https://localhost:8080/",
          "height": 81
        },
        "id": "WwcAp2bwC6GS",
        "outputId": "3635c508-ae4f-45a7-f6db-b823ae2570df"
      },
      "execution_count": 23,
      "outputs": [
        {
          "output_type": "execute_result",
          "data": {
            "text/plain": [
              "                Name     N        Mean   Median         Variance          SD  \\\n",
              "0  personal_earnings  4846  35045.9915  30000.0  1997633377.1304  44694.8921   \n",
              "\n",
              "         SE        95% Conf. Interval  \n",
              "0  642.0461  [33787.2899, 36304.6931]  "
            ],
            "text/html": [
              "\n",
              "  <div id=\"df-44888878-aa99-46f6-b0b4-2b889d0ea63c\" class=\"colab-df-container\">\n",
              "    <div>\n",
              "<style scoped>\n",
              "    .dataframe tbody tr th:only-of-type {\n",
              "        vertical-align: middle;\n",
              "    }\n",
              "\n",
              "    .dataframe tbody tr th {\n",
              "        vertical-align: top;\n",
              "    }\n",
              "\n",
              "    .dataframe thead th {\n",
              "        text-align: right;\n",
              "    }\n",
              "</style>\n",
              "<table border=\"1\" class=\"dataframe\">\n",
              "  <thead>\n",
              "    <tr style=\"text-align: right;\">\n",
              "      <th></th>\n",
              "      <th>Name</th>\n",
              "      <th>N</th>\n",
              "      <th>Mean</th>\n",
              "      <th>Median</th>\n",
              "      <th>Variance</th>\n",
              "      <th>SD</th>\n",
              "      <th>SE</th>\n",
              "      <th>95% Conf. Interval</th>\n",
              "    </tr>\n",
              "  </thead>\n",
              "  <tbody>\n",
              "    <tr>\n",
              "      <th>0</th>\n",
              "      <td>personal_earnings</td>\n",
              "      <td>4846</td>\n",
              "      <td>35045.9915</td>\n",
              "      <td>30000.0</td>\n",
              "      <td>1997633377.1304</td>\n",
              "      <td>44694.8921</td>\n",
              "      <td>642.0461</td>\n",
              "      <td>[33787.2899, 36304.6931]</td>\n",
              "    </tr>\n",
              "  </tbody>\n",
              "</table>\n",
              "</div>\n",
              "    <div class=\"colab-df-buttons\">\n",
              "\n",
              "  <div class=\"colab-df-container\">\n",
              "    <button class=\"colab-df-convert\" onclick=\"convertToInteractive('df-44888878-aa99-46f6-b0b4-2b889d0ea63c')\"\n",
              "            title=\"Convert this dataframe to an interactive table.\"\n",
              "            style=\"display:none;\">\n",
              "\n",
              "  <svg xmlns=\"http://www.w3.org/2000/svg\" height=\"24px\" viewBox=\"0 -960 960 960\">\n",
              "    <path d=\"M120-120v-720h720v720H120Zm60-500h600v-160H180v160Zm220 220h160v-160H400v160Zm0 220h160v-160H400v160ZM180-400h160v-160H180v160Zm440 0h160v-160H620v160ZM180-180h160v-160H180v160Zm440 0h160v-160H620v160Z\"/>\n",
              "  </svg>\n",
              "    </button>\n",
              "\n",
              "  <style>\n",
              "    .colab-df-container {\n",
              "      display:flex;\n",
              "      gap: 12px;\n",
              "    }\n",
              "\n",
              "    .colab-df-convert {\n",
              "      background-color: #E8F0FE;\n",
              "      border: none;\n",
              "      border-radius: 50%;\n",
              "      cursor: pointer;\n",
              "      display: none;\n",
              "      fill: #1967D2;\n",
              "      height: 32px;\n",
              "      padding: 0 0 0 0;\n",
              "      width: 32px;\n",
              "    }\n",
              "\n",
              "    .colab-df-convert:hover {\n",
              "      background-color: #E2EBFA;\n",
              "      box-shadow: 0px 1px 2px rgba(60, 64, 67, 0.3), 0px 1px 3px 1px rgba(60, 64, 67, 0.15);\n",
              "      fill: #174EA6;\n",
              "    }\n",
              "\n",
              "    .colab-df-buttons div {\n",
              "      margin-bottom: 4px;\n",
              "    }\n",
              "\n",
              "    [theme=dark] .colab-df-convert {\n",
              "      background-color: #3B4455;\n",
              "      fill: #D2E3FC;\n",
              "    }\n",
              "\n",
              "    [theme=dark] .colab-df-convert:hover {\n",
              "      background-color: #434B5C;\n",
              "      box-shadow: 0px 1px 3px 1px rgba(0, 0, 0, 0.15);\n",
              "      filter: drop-shadow(0px 1px 2px rgba(0, 0, 0, 0.3));\n",
              "      fill: #FFFFFF;\n",
              "    }\n",
              "  </style>\n",
              "\n",
              "    <script>\n",
              "      const buttonEl =\n",
              "        document.querySelector('#df-44888878-aa99-46f6-b0b4-2b889d0ea63c button.colab-df-convert');\n",
              "      buttonEl.style.display =\n",
              "        google.colab.kernel.accessAllowed ? 'block' : 'none';\n",
              "\n",
              "      async function convertToInteractive(key) {\n",
              "        const element = document.querySelector('#df-44888878-aa99-46f6-b0b4-2b889d0ea63c');\n",
              "        const dataTable =\n",
              "          await google.colab.kernel.invokeFunction('convertToInteractive',\n",
              "                                                    [key], {});\n",
              "        if (!dataTable) return;\n",
              "\n",
              "        const docLinkHtml = 'Like what you see? Visit the ' +\n",
              "          '<a target=\"_blank\" href=https://colab.research.google.com/notebooks/data_table.ipynb>data table notebook</a>'\n",
              "          + ' to learn more about interactive tables.';\n",
              "        element.innerHTML = '';\n",
              "        dataTable['output_type'] = 'display_data';\n",
              "        await google.colab.output.renderOutput(dataTable, element);\n",
              "        const docLink = document.createElement('div');\n",
              "        docLink.innerHTML = docLinkHtml;\n",
              "        element.appendChild(docLink);\n",
              "      }\n",
              "    </script>\n",
              "  </div>\n",
              "\n",
              "    </div>\n",
              "  </div>\n"
            ]
          },
          "metadata": {},
          "execution_count": 23
        }
      ]
    },
    {
      "cell_type": "code",
      "source": [
        "sns.histplot( x ='personal_earnings' , data = df, bins = 15, kde = True)"
      ],
      "metadata": {
        "colab": {
          "base_uri": "https://localhost:8080/",
          "height": 467
        },
        "id": "4Ybs0PmXC8s7",
        "outputId": "2943f8c4-c1fd-4f4d-f849-01961ea5b395"
      },
      "execution_count": 24,
      "outputs": [
        {
          "output_type": "execute_result",
          "data": {
            "text/plain": [
              "<Axes: xlabel='personal_earnings', ylabel='Count'>"
            ]
          },
          "metadata": {},
          "execution_count": 24
        },
        {
          "output_type": "display_data",
          "data": {
            "text/plain": [
              "<Figure size 640x480 with 1 Axes>"
            ],
            "image/png": "[encoded data removed]"
          },
          "metadata": {}
        }
      ]
    },
    {
      "cell_type": "code",
      "source": [
        "sns.boxplot( x ='personal_earnings' , data = df)"
      ],
      "metadata": {
        "colab": {
          "base_uri": "https://localhost:8080/",
          "height": 467
        },
        "id": "qrHm1yHQC-gg",
        "outputId": "e60b9a96-e651-42ee-d793-76e8666542db"
      },
      "execution_count": 25,
      "outputs": [
        {
          "output_type": "execute_result",
          "data": {
            "text/plain": [
              "<Axes: xlabel='personal_earnings'>"
            ]
          },
          "metadata": {},
          "execution_count": 25
        },
        {
          "output_type": "display_data",
          "data": {
            "text/plain": [
              "<Figure size 640x480 with 1 Axes>"
            ],
            "image/png": "[encoded data removed]"
          },
          "metadata": {}
        }
      ]
    },
    {
      "cell_type": "code",
      "source": [
        "df['H4DA1'].dtype"
      ],
      "metadata": {
        "colab": {
          "base_uri": "https://localhost:8080/"
        },
        "id": "QtVPymtvQ8uo",
        "outputId": "8ce12cfa-2e4a-4103-f722-648fe00e1405"
      },
      "execution_count": 32,
      "outputs": [
        {
          "output_type": "execute_result",
          "data": {
            "text/plain": [
              "dtype('O')"
            ]
          },
          "metadata": {},
          "execution_count": 32
        }
      ]
    },
    {
      "cell_type": "code",
      "source": [
        "#Create new variable 'current_weight' and check the dtype\n",
        "df['ENTERTAINMENT_CONSUMED'] = df['H4DA1']\n",
        "df['ENTERTAINMENT_CONSUMED'].dtype"
      ],
      "metadata": {
        "colab": {
          "base_uri": "https://localhost:8080/"
        },
        "id": "z6hyQ-NJRlb9",
        "outputId": "0223ecd8-773e-4fae-f90f-cd7abe493fce"
      },
      "execution_count": 27,
      "outputs": [
        {
          "output_type": "execute_result",
          "data": {
            "text/plain": [
              "dtype('O')"
            ]
          },
          "metadata": {},
          "execution_count": 27
        }
      ]
    },
    {
      "cell_type": "code",
      "source": [
        "#Remove missing values and refused and I don't know (Check max)\n",
        "df['ENTERTAINMENT_CONSUMED'] = df['ENTERTAINMENT_CONSUMED'].loc[ df['ENTERTAINMENT_CONSUMED'] != ' ' ]\n",
        "df['ENTERTAINMENT_CONSUMED'] = df['ENTERTAINMENT_CONSUMED'].loc[ df['ENTERTAINMENT_CONSUMED'] < 996 ]\n",
        "df['ENTERTAINMENT_CONSUMED'].max()"
      ],
      "metadata": {
        "colab": {
          "base_uri": "https://localhost:8080/",
          "height": 286
        },
        "id": "WruQAZZWSMxl",
        "outputId": "9fd8e344-d432-4135-f2a1-16cd02212606"
      },
      "execution_count": 30,
      "outputs": [
        {
          "output_type": "error",
          "ename": "TypeError",
          "evalue": "ignored",
          "traceback": [
            "\u001b[0;31m---------------------------------------------------------------------------\u001b[0m",
            "\u001b[0;31mTypeError\u001b[0m                                 Traceback (most recent call last)",
            "\u001b[0;32m<ipython-input-30-473df0e5e022>\u001b[0m in \u001b[0;36m<cell line: 3>\u001b[0;34m()\u001b[0m\n\u001b[1;32m      1\u001b[0m \u001b[0;31m#Remove missing values and refused and I don't know (Check max)\u001b[0m\u001b[0;34m\u001b[0m\u001b[0;34m\u001b[0m\u001b[0m\n\u001b[1;32m      2\u001b[0m \u001b[0mdf\u001b[0m\u001b[0;34m[\u001b[0m\u001b[0;34m'ENTERTAINMENT_CONSUMED'\u001b[0m\u001b[0;34m]\u001b[0m \u001b[0;34m=\u001b[0m \u001b[0mdf\u001b[0m\u001b[0;34m[\u001b[0m\u001b[0;34m'ENTERTAINMENT_CONSUMED'\u001b[0m\u001b[0;34m]\u001b[0m\u001b[0;34m.\u001b[0m\u001b[0mloc\u001b[0m\u001b[0;34m[\u001b[0m \u001b[0mdf\u001b[0m\u001b[0;34m[\u001b[0m\u001b[0;34m'ENTERTAINMENT_CONSUMED'\u001b[0m\u001b[0;34m]\u001b[0m \u001b[0;34m!=\u001b[0m \u001b[0;34m' '\u001b[0m \u001b[0;34m]\u001b[0m\u001b[0;34m\u001b[0m\u001b[0;34m\u001b[0m\u001b[0m\n\u001b[0;32m----> 3\u001b[0;31m \u001b[0mdf\u001b[0m\u001b[0;34m[\u001b[0m\u001b[0;34m'ENTERTAINMENT_CONSUMED'\u001b[0m\u001b[0;34m]\u001b[0m \u001b[0;34m=\u001b[0m \u001b[0mdf\u001b[0m\u001b[0;34m[\u001b[0m\u001b[0;34m'ENTERTAINMENT_CONSUMED'\u001b[0m\u001b[0;34m]\u001b[0m\u001b[0;34m.\u001b[0m\u001b[0mloc\u001b[0m\u001b[0;34m[\u001b[0m \u001b[0mdf\u001b[0m\u001b[0;34m[\u001b[0m\u001b[0;34m'ENTERTAINMENT_CONSUMED'\u001b[0m\u001b[0;34m]\u001b[0m \u001b[0;34m<\u001b[0m \u001b[0;36m996\u001b[0m \u001b[0;34m]\u001b[0m\u001b[0;34m\u001b[0m\u001b[0;34m\u001b[0m\u001b[0m\n\u001b[0m\u001b[1;32m      4\u001b[0m \u001b[0mdf\u001b[0m\u001b[0;34m[\u001b[0m\u001b[0;34m'ENTERTAINMENT_CONSUMED'\u001b[0m\u001b[0;34m]\u001b[0m\u001b[0;34m.\u001b[0m\u001b[0mmax\u001b[0m\u001b[0;34m(\u001b[0m\u001b[0;34m)\u001b[0m\u001b[0;34m\u001b[0m\u001b[0;34m\u001b[0m\u001b[0m\n",
            "\u001b[0;32m/usr/local/lib/python3.10/dist-packages/pandas/core/ops/common.py\u001b[0m in \u001b[0;36mnew_method\u001b[0;34m(self, other)\u001b[0m\n\u001b[1;32m     70\u001b[0m         \u001b[0mother\u001b[0m \u001b[0;34m=\u001b[0m \u001b[0mitem_from_zerodim\u001b[0m\u001b[0;34m(\u001b[0m\u001b[0mother\u001b[0m\u001b[0;34m)\u001b[0m\u001b[0;34m\u001b[0m\u001b[0;34m\u001b[0m\u001b[0m\n\u001b[1;32m     71\u001b[0m \u001b[0;34m\u001b[0m\u001b[0m\n\u001b[0;32m---> 72\u001b[0;31m         \u001b[0;32mreturn\u001b[0m \u001b[0mmethod\u001b[0m\u001b[0;34m(\u001b[0m\u001b[0mself\u001b[0m\u001b[0;34m,\u001b[0m \u001b[0mother\u001b[0m\u001b[0;34m)\u001b[0m\u001b[0;34m\u001b[0m\u001b[0;34m\u001b[0m\u001b[0m\n\u001b[0m\u001b[1;32m     73\u001b[0m \u001b[0;34m\u001b[0m\u001b[0m\n\u001b[1;32m     74\u001b[0m     \u001b[0;32mreturn\u001b[0m \u001b[0mnew_method\u001b[0m\u001b[0;34m\u001b[0m\u001b[0;34m\u001b[0m\u001b[0m\n",
            "\u001b[0;32m/usr/local/lib/python3.10/dist-packages/pandas/core/arraylike.py\u001b[0m in \u001b[0;36m__lt__\u001b[0;34m(self, other)\u001b[0m\n\u001b[1;32m     48\u001b[0m     \u001b[0;34m@\u001b[0m\u001b[0munpack_zerodim_and_defer\u001b[0m\u001b[0;34m(\u001b[0m\u001b[0;34m\"__lt__\"\u001b[0m\u001b[0;34m)\u001b[0m\u001b[0;34m\u001b[0m\u001b[0;34m\u001b[0m\u001b[0m\n\u001b[1;32m     49\u001b[0m     \u001b[0;32mdef\u001b[0m \u001b[0m__lt__\u001b[0m\u001b[0;34m(\u001b[0m\u001b[0mself\u001b[0m\u001b[0;34m,\u001b[0m \u001b[0mother\u001b[0m\u001b[0;34m)\u001b[0m\u001b[0;34m:\u001b[0m\u001b[0;34m\u001b[0m\u001b[0;34m\u001b[0m\u001b[0m\n\u001b[0;32m---> 50\u001b[0;31m         \u001b[0;32mreturn\u001b[0m \u001b[0mself\u001b[0m\u001b[0;34m.\u001b[0m\u001b[0m_cmp_method\u001b[0m\u001b[0;34m(\u001b[0m\u001b[0mother\u001b[0m\u001b[0;34m,\u001b[0m \u001b[0moperator\u001b[0m\u001b[0;34m.\u001b[0m\u001b[0mlt\u001b[0m\u001b[0;34m)\u001b[0m\u001b[0;34m\u001b[0m\u001b[0;34m\u001b[0m\u001b[0m\n\u001b[0m\u001b[1;32m     51\u001b[0m \u001b[0;34m\u001b[0m\u001b[0m\n\u001b[1;32m     52\u001b[0m     \u001b[0;34m@\u001b[0m\u001b[0munpack_zerodim_and_defer\u001b[0m\u001b[0;34m(\u001b[0m\u001b[0;34m\"__le__\"\u001b[0m\u001b[0;34m)\u001b[0m\u001b[0;34m\u001b[0m\u001b[0;34m\u001b[0m\u001b[0m\n",
            "\u001b[0;32m/usr/local/lib/python3.10/dist-packages/pandas/core/series.py\u001b[0m in \u001b[0;36m_cmp_method\u001b[0;34m(self, other, op)\u001b[0m\n\u001b[1;32m   6241\u001b[0m \u001b[0;34m\u001b[0m\u001b[0m\n\u001b[1;32m   6242\u001b[0m         \u001b[0;32mwith\u001b[0m \u001b[0mnp\u001b[0m\u001b[0;34m.\u001b[0m\u001b[0merrstate\u001b[0m\u001b[0;34m(\u001b[0m\u001b[0mall\u001b[0m\u001b[0;34m=\u001b[0m\u001b[0;34m\"ignore\"\u001b[0m\u001b[0;34m)\u001b[0m\u001b[0;34m:\u001b[0m\u001b[0;34m\u001b[0m\u001b[0;34m\u001b[0m\u001b[0m\n\u001b[0;32m-> 6243\u001b[0;31m             \u001b[0mres_values\u001b[0m \u001b[0;34m=\u001b[0m \u001b[0mops\u001b[0m\u001b[0;34m.\u001b[0m\u001b[0mcomparison_op\u001b[0m\u001b[0;34m(\u001b[0m\u001b[0mlvalues\u001b[0m\u001b[0;34m,\u001b[0m \u001b[0mrvalues\u001b[0m\u001b[0;34m,\u001b[0m \u001b[0mop\u001b[0m\u001b[0;34m)\u001b[0m\u001b[0;34m\u001b[0m\u001b[0;34m\u001b[0m\u001b[0m\n\u001b[0m\u001b[1;32m   6244\u001b[0m \u001b[0;34m\u001b[0m\u001b[0m\n\u001b[1;32m   6245\u001b[0m         \u001b[0;32mreturn\u001b[0m \u001b[0mself\u001b[0m\u001b[0;34m.\u001b[0m\u001b[0m_construct_result\u001b[0m\u001b[0;34m(\u001b[0m\u001b[0mres_values\u001b[0m\u001b[0;34m,\u001b[0m \u001b[0mname\u001b[0m\u001b[0;34m=\u001b[0m\u001b[0mres_name\u001b[0m\u001b[0;34m)\u001b[0m\u001b[0;34m\u001b[0m\u001b[0;34m\u001b[0m\u001b[0m\n",
            "\u001b[0;32m/usr/local/lib/python3.10/dist-packages/pandas/core/ops/array_ops.py\u001b[0m in \u001b[0;36mcomparison_op\u001b[0;34m(left, right, op)\u001b[0m\n\u001b[1;32m    285\u001b[0m \u001b[0;34m\u001b[0m\u001b[0m\n\u001b[1;32m    286\u001b[0m     \u001b[0;32melif\u001b[0m \u001b[0mis_object_dtype\u001b[0m\u001b[0;34m(\u001b[0m\u001b[0mlvalues\u001b[0m\u001b[0;34m.\u001b[0m\u001b[0mdtype\u001b[0m\u001b[0;34m)\u001b[0m \u001b[0;32mor\u001b[0m \u001b[0misinstance\u001b[0m\u001b[0;34m(\u001b[0m\u001b[0mrvalues\u001b[0m\u001b[0;34m,\u001b[0m \u001b[0mstr\u001b[0m\u001b[0;34m)\u001b[0m\u001b[0;34m:\u001b[0m\u001b[0;34m\u001b[0m\u001b[0;34m\u001b[0m\u001b[0m\n\u001b[0;32m--> 287\u001b[0;31m         \u001b[0mres_values\u001b[0m \u001b[0;34m=\u001b[0m \u001b[0mcomp_method_OBJECT_ARRAY\u001b[0m\u001b[0;34m(\u001b[0m\u001b[0mop\u001b[0m\u001b[0;34m,\u001b[0m \u001b[0mlvalues\u001b[0m\u001b[0;34m,\u001b[0m \u001b[0mrvalues\u001b[0m\u001b[0;34m)\u001b[0m\u001b[0;34m\u001b[0m\u001b[0;34m\u001b[0m\u001b[0m\n\u001b[0m\u001b[1;32m    288\u001b[0m \u001b[0;34m\u001b[0m\u001b[0m\n\u001b[1;32m    289\u001b[0m     \u001b[0;32melse\u001b[0m\u001b[0;34m:\u001b[0m\u001b[0;34m\u001b[0m\u001b[0;34m\u001b[0m\u001b[0m\n",
            "\u001b[0;32m/usr/local/lib/python3.10/dist-packages/pandas/core/ops/array_ops.py\u001b[0m in \u001b[0;36mcomp_method_OBJECT_ARRAY\u001b[0;34m(op, x, y)\u001b[0m\n\u001b[1;32m     73\u001b[0m         \u001b[0mresult\u001b[0m \u001b[0;34m=\u001b[0m \u001b[0mlibops\u001b[0m\u001b[0;34m.\u001b[0m\u001b[0mvec_compare\u001b[0m\u001b[0;34m(\u001b[0m\u001b[0mx\u001b[0m\u001b[0;34m.\u001b[0m\u001b[0mravel\u001b[0m\u001b[0;34m(\u001b[0m\u001b[0;34m)\u001b[0m\u001b[0;34m,\u001b[0m \u001b[0my\u001b[0m\u001b[0;34m.\u001b[0m\u001b[0mravel\u001b[0m\u001b[0;34m(\u001b[0m\u001b[0;34m)\u001b[0m\u001b[0;34m,\u001b[0m \u001b[0mop\u001b[0m\u001b[0;34m)\u001b[0m\u001b[0;34m\u001b[0m\u001b[0;34m\u001b[0m\u001b[0m\n\u001b[1;32m     74\u001b[0m     \u001b[0;32melse\u001b[0m\u001b[0;34m:\u001b[0m\u001b[0;34m\u001b[0m\u001b[0;34m\u001b[0m\u001b[0m\n\u001b[0;32m---> 75\u001b[0;31m         \u001b[0mresult\u001b[0m \u001b[0;34m=\u001b[0m \u001b[0mlibops\u001b[0m\u001b[0;34m.\u001b[0m\u001b[0mscalar_compare\u001b[0m\u001b[0;34m(\u001b[0m\u001b[0mx\u001b[0m\u001b[0;34m.\u001b[0m\u001b[0mravel\u001b[0m\u001b[0;34m(\u001b[0m\u001b[0;34m)\u001b[0m\u001b[0;34m,\u001b[0m \u001b[0my\u001b[0m\u001b[0;34m,\u001b[0m \u001b[0mop\u001b[0m\u001b[0;34m)\u001b[0m\u001b[0;34m\u001b[0m\u001b[0;34m\u001b[0m\u001b[0m\n\u001b[0m\u001b[1;32m     76\u001b[0m     \u001b[0;32mreturn\u001b[0m \u001b[0mresult\u001b[0m\u001b[0;34m.\u001b[0m\u001b[0mreshape\u001b[0m\u001b[0;34m(\u001b[0m\u001b[0mx\u001b[0m\u001b[0;34m.\u001b[0m\u001b[0mshape\u001b[0m\u001b[0;34m)\u001b[0m\u001b[0;34m\u001b[0m\u001b[0;34m\u001b[0m\u001b[0m\n\u001b[1;32m     77\u001b[0m \u001b[0;34m\u001b[0m\u001b[0m\n",
            "\u001b[0;32m/usr/local/lib/python3.10/dist-packages/pandas/_libs/ops.pyx\u001b[0m in \u001b[0;36mpandas._libs.ops.scalar_compare\u001b[0;34m()\u001b[0m\n",
            "\u001b[0;31mTypeError\u001b[0m: '<' not supported between instances of 'str' and 'int'"
          ]
        }
      ]
    }
  ]
}